{
 "cells": [
  {
   "cell_type": "code",
   "execution_count": 64,
   "id": "ff6a9e90",
   "metadata": {},
   "outputs": [],
   "source": [
    "import matplotlib.pylab as plt\n",
    "import numpy as np\n",
    "import pandas as pd\n"
   ]
  },
  {
   "cell_type": "code",
   "execution_count": 80,
   "id": "eaf17d9f",
   "metadata": {},
   "outputs": [
    {
     "name": "stdout",
     "output_type": "stream",
     "text": [
      "[[    nan     nan -39.9     0.465]\n",
      " [    nan     nan -23.3     0.344]\n",
      " [-19.2     0.633 -17.5     0.35 ]\n",
      " [-62.5     0.618 -10.7     0.44 ]\n",
      " [-39.9     0.465  -7.1     0.494]\n",
      " [    nan     nan  -3.1     0.573]\n",
      " [    nan     nan   0.1     0.632]\n",
      " [    nan     nan -19.2     0.633]]\n"
     ]
    }
   ],
   "source": [
    "\n",
    "print(iceV)"
   ]
  },
  {
   "cell_type": "code",
   "execution_count": 106,
   "id": "8a85444a",
   "metadata": {},
   "outputs": [
    {
     "data": {
      "text/plain": [
       "[<matplotlib.lines.Line2D at 0x12f7b1c70>]"
      ]
     },
     "execution_count": 106,
     "metadata": {},
     "output_type": "execute_result"
    },
    {
     "data": {
      "image/png": "[encoded data removed]",
      "text/plain": [
       "<Figure size 432x288 with 1 Axes>"
      ]
     },
     "metadata": {
      "needs_background": "light"
     },
     "output_type": "display_data"
    }
   ],
   "source": [
    "iceI=pd.read_csv('IceI.txt',delimiter='\\t',header=None).to_numpy()[:,::-1]\n",
    "iceIII=pd.read_csv('IceIII.txt',delimiter='\\t',header=None).to_numpy()[:,::-1]\n",
    "iceV=pd.read_csv('IceV.txt',delimiter='\\t',header=None,na_values='--').to_numpy()[:,::-1]\n",
    "iceVI=pd.read_csv('IceVI.txt',delimiter='\\t',header=None).to_numpy()[:,::-1]\n",
    "plt.plot(iceI[:,2],iceI[:,3],'k')\n",
    "plt.plot(iceI[:,4],iceI[:,5],'k')\n",
    "\n",
    "plt.plot(iceIII[:,0],iceIII[:,1],'k')\n",
    "plt.plot(iceV[:,0],iceV[:,1],'k')\n",
    "plt.plot(iceV[:,2],iceV[:,3],'k')\n",
    "plt.plot(iceVI[:,0],iceVI[:,1],'k')\n",
    "plt.plot(iceVI[:,2],iceVI[:,3],'k')\n",
    "plt.plot(iceVI[:,4],iceVI[:,5],'k')\n"
   ]
  },
  {
   "cell_type": "code",
   "execution_count": null,
   "id": "2a52e3c6",
   "metadata": {},
   "outputs": [],
   "source": []
  }
 ],
 "metadata": {
  "kernelspec": {
   "display_name": "Python 3 (ipykernel)",
   "language": "python",
   "name": "python3"
  },
  "language_info": {
   "codemirror_mode": {
    "name": "ipython",
    "version": 3
   },
   "file_extension": ".py",
   "mimetype": "text/x-python",
   "name": "python",
   "nbconvert_exporter": "python",
   "pygments_lexer": "ipython3",
   "version": "3.9.6"
  }
 },
 "nbformat": 4,
 "nbformat_minor": 5
}
